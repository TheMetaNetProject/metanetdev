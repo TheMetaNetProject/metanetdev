{
 "cells": [
  {
   "cell_type": "code",
   "execution_count": 1,
   "metadata": {
    "collapsed": false,
    "hide_input": false,
    "run_control": {
     "marked": true
    }
   },
   "outputs": [
    {
     "data": {
      "text/plain": [
       "{u'load_extensions': {u'IPython-notebook-extensions-master/usability/runtools/runtools': True}}"
      ]
     },
     "execution_count": 1,
     "metadata": {},
     "output_type": "execute_result"
    }
   ],
   "source": [
    "from IPython.html.services.config import ConfigManager\n",
    "ip = get_ipython()\n",
    "cm = ConfigManager(parent=ip, profile_dir=ip.profile_dir.location)\n",
    "cm.update('notebook', {\"load_extensions\": {\"IPython-notebook-extensions-master/usability/runtools/runtools\": True}})"
   ]
  },
  {
   "cell_type": "code",
   "execution_count": 3,
   "metadata": {
    "collapsed": false,
    "hide_input": false,
    "run_control": {
     "marked": true
    }
   },
   "outputs": [
    {
     "data": {
      "text/html": [
       "\n",
       "<table border=\"1\">\n",
       "  <tr>\n",
       "    <th>Extension name</th>\n",
       "  </tr>\n",
       "<tr><td>IPython-notebook-extensions-master/usability/runtools/runtools</td>\n",
       "\n",
       "</table>\n"
      ],
      "text/plain": [
       "<IPython.core.display.HTML object>"
      ]
     },
     "execution_count": 3,
     "metadata": {},
     "output_type": "execute_result"
    }
   ],
   "source": [
    "from IPython.html.services.config import ConfigManager\n",
    "from IPython.display import HTML\n",
    "ip = get_ipython()\n",
    "cm = ConfigManager(parent=ip, profile_dir=ip.profile_dir.location)\n",
    "extensions =cm.get('notebook')\n",
    "table = \"\"\n",
    "for ext in extensions['load_extensions']:\n",
    "    table += \"<tr><td>%s</td>\\n\" % (ext)\n",
    "\n",
    "top = \"\"\"\n",
    "<table border=\"1\">\n",
    "  <tr>\n",
    "    <th>Extension name</th>\n",
    "  </tr>\n",
    "\"\"\"\n",
    "bottom = \"\"\"\n",
    "</table>\n",
    "\"\"\"\n",
    "HTML(top + table + bottom)"
   ]
  },
  {
   "cell_type": "code",
   "execution_count": 1,
   "metadata": {
    "collapsed": false,
    "hide_input": false,
    "run_control": {
     "marked": true
    }
   },
   "outputs": [
    {
     "data": {
      "text/plain": [
       "{'location': u'/n/banquet/dc/lucag/.ipython/profile_default'}"
      ]
     },
     "execution_count": 1,
     "metadata": {},
     "output_type": "execute_result"
    }
   ],
   "source": [
    "import IPython\n",
    "ip=IPython.get_ipython()\n",
    "ip.config.ProfileDir "
   ]
  },
  {
   "cell_type": "code",
   "execution_count": 2,
   "metadata": {
    "collapsed": false
   },
   "outputs": [
    {
     "data": {
      "text/html": [
       "<script type=\"text/javascript\">\n",
       "        $(function() {\n",
       "            var modelid = \"201fd321-870b-4f64-b7a1-918468b08741\";\n",
       "            var modeltype = \"Plot\";\n",
       "            var elementid = \"e306ab8d-d017-4377-b933-6b1c5d02f43e\";\n",
       "            Bokeh.logger.info(\"Realizing plot:\")\n",
       "            Bokeh.logger.info(\" - modeltype: Plot\");\n",
       "            Bokeh.logger.info(\" - modelid: 201fd321-870b-4f64-b7a1-918468b08741\");\n",
       "            Bokeh.logger.info(\" - elementid: e306ab8d-d017-4377-b933-6b1c5d02f43e\");\n",
       "            var all_models = [{\"attributes\": {\"doc\": null, \"id\": \"ee8878f8-0ae0-4ef5-9f35-b5f024e965b9\", \"tags\": []}, \"type\": \"CategoricalTickFormatter\", \"id\": \"ee8878f8-0ae0-4ef5-9f35-b5f024e965b9\"}, {\"attributes\": {\"factors\": [\"GUN_RIGHTS\", \"GUNS\", \"CONTROL_OF_GUNS\", \"GUN_VIOLENCE\", \"GUN_INDUSTRY\"], \"doc\": null, \"tags\": [], \"id\": \"6097f3ae-c63d-4aaa-8b19-24d617a97a86\"}, \"type\": \"FactorRange\", \"id\": \"6097f3ae-c63d-4aaa-8b19-24d617a97a86\"}, {\"attributes\": {\"nonselection_glyph\": null, \"data_source\": {\"type\": \"ColumnDataSource\", \"id\": \"99da06c0-49fc-4d9c-98ef-e0e3583327b2\"}, \"server_data_source\": null, \"tags\": [], \"doc\": null, \"selection_glyph\": null, \"id\": \"ca71e767-b76f-4524-908f-89382749ca47\", \"glyph\": {\"type\": \"Rect\", \"id\": \"bcda70df-46af-4d0f-b4d6-0b0c48331ddd\"}}, \"type\": \"GlyphRenderer\", \"id\": \"ca71e767-b76f-4524-908f-89382749ca47\"}, {\"attributes\": {\"plot\": {\"type\": \"Plot\", \"id\": \"201fd321-870b-4f64-b7a1-918468b08741\"}, \"tags\": [], \"doc\": null, \"axis_label\": \"Number of Instances\", \"formatter\": {\"type\": \"BasicTickFormatter\", \"id\": \"3a52c18b-eadf-4e21-b328-bcfbc031139e\"}, \"ticker\": {\"type\": \"BasicTicker\", \"id\": \"52d25030-8fb6-4115-84d2-de34530f2c36\"}, \"id\": \"0963765e-3e95-4b16-bc88-1d9b78a30de9\"}, \"type\": \"LinearAxis\", \"id\": \"0963765e-3e95-4b16-bc88-1d9b78a30de9\"}, {\"attributes\": {\"x_range\": {\"type\": \"FactorRange\", \"id\": \"6097f3ae-c63d-4aaa-8b19-24d617a97a86\"}, \"right\": [], \"tags\": [], \"tools\": [{\"type\": \"PreviewSaveTool\", \"id\": \"193f4795-526f-4d27-9e46-1c9b7e8423d2\"}], \"title\": \"Query: source-schemafamilies: Physical combat*\", \"extra_y_ranges\": {}, \"plot_width\": 800, \"renderers\": [{\"type\": \"CategoricalAxis\", \"id\": \"2c043297-10ca-4b13-a75b-2c2a65b5f473\"}, {\"type\": \"LinearAxis\", \"id\": \"0963765e-3e95-4b16-bc88-1d9b78a30de9\"}, {\"type\": \"Grid\", \"id\": \"2ab4ccbd-e6db-43a3-ae5e-3a09d890c0c5\"}, {\"type\": \"GlyphRenderer\", \"id\": \"ca71e767-b76f-4524-908f-89382749ca47\"}, {\"type\": \"GlyphRenderer\", \"id\": \"e2fe512a-dfd1-4d66-8944-8fb470944cf3\"}, {\"type\": \"Legend\", \"id\": \"f23f9cef-e0ff-4441-b58d-935f025e2de2\"}], \"extra_x_ranges\": {}, \"plot_height\": 600, \"tool_events\": {\"type\": \"ToolEvents\", \"id\": \"4ee3c02c-0fb3-40f7-91ac-b1f4f7bdb035\"}, \"above\": [], \"doc\": null, \"id\": \"201fd321-870b-4f64-b7a1-918468b08741\", \"y_range\": {\"type\": \"Range1d\", \"id\": \"de53ccbd-c2cd-4152-818d-f09f8f15429e\"}, \"below\": [{\"type\": \"CategoricalAxis\", \"id\": \"2c043297-10ca-4b13-a75b-2c2a65b5f473\"}], \"left\": [{\"type\": \"LinearAxis\", \"id\": \"0963765e-3e95-4b16-bc88-1d9b78a30de9\"}]}, \"type\": \"Plot\", \"id\": \"201fd321-870b-4f64-b7a1-918468b08741\"}, {\"attributes\": {\"line_color\": {\"value\": \"white\"}, \"line_width\": null, \"fill_color\": {\"value\": \"#5ab738\"}, \"tags\": [], \"doc\": null, \"id\": \"498d1aed-947e-4efc-94ae-d270d26054d7\", \"fill_alpha\": {\"units\": \"data\", \"value\": 0.7}, \"height\": {\"units\": \"data\", \"field\": \"Individual Oversight\"}, \"line_alpha\": {\"units\": \"data\", \"value\": 1.0}, \"y\": {\"units\": \"data\", \"field\": \"midIndividual Oversight\"}, \"x\": {\"units\": \"data\", \"field\": \"catIndividual Oversight\"}, \"width\": {\"units\": \"data\", \"field\": \"width_cat\"}}, \"type\": \"Rect\", \"id\": \"498d1aed-947e-4efc-94ae-d270d26054d7\"}, {\"attributes\": {\"doc\": null, \"id\": \"3a52c18b-eadf-4e21-b328-bcfbc031139e\", \"tags\": []}, \"type\": \"BasicTickFormatter\", \"id\": \"3a52c18b-eadf-4e21-b328-bcfbc031139e\"}, {\"attributes\": {\"plot\": {\"type\": \"Plot\", \"id\": \"201fd321-870b-4f64-b7a1-918468b08741\"}, \"tags\": [], \"doc\": null, \"dimension\": 1, \"ticker\": {\"type\": \"BasicTicker\", \"id\": \"52d25030-8fb6-4115-84d2-de34530f2c36\"}, \"id\": \"2ab4ccbd-e6db-43a3-ae5e-3a09d890c0c5\"}, \"type\": \"Grid\", \"id\": \"2ab4ccbd-e6db-43a3-ae5e-3a09d890c0c5\"}, {\"attributes\": {\"plot\": {\"type\": \"Plot\", \"id\": \"201fd321-870b-4f64-b7a1-918468b08741\"}, \"tags\": [], \"doc\": null, \"major_label_orientation\": 0.7853981633974483, \"axis_label\": \"Target Concept\", \"formatter\": {\"type\": \"CategoricalTickFormatter\", \"id\": \"ee8878f8-0ae0-4ef5-9f35-b5f024e965b9\"}, \"ticker\": {\"type\": \"CategoricalTicker\", \"id\": \"dad5fb1d-2d5b-4e42-9724-9d6b7d0f29cc\"}, \"id\": \"2c043297-10ca-4b13-a75b-2c2a65b5f473\"}, \"type\": \"CategoricalAxis\", \"id\": \"2c043297-10ca-4b13-a75b-2c2a65b5f473\"}, {\"attributes\": {\"column_names\": [\"width_cat\", \"midGovernment Oversight\", \"catIndividual Oversight\", \"stackedGovernment Oversight\", \"midIndividual Oversight\", \"stackedIndividual Oversight\", \"cat\", \"width\", \"zero\", \"Government Oversight\", \"Individual Oversight\", \"catGovernment Oversight\"], \"tags\": [], \"doc\": null, \"selected\": [], \"discrete_ranges\": {}, \"cont_ranges\": {}, \"data\": {\"width_cat\": [0.2, 0.2, 0.2, 0.2, 0.2], \"midGovernment Oversight\": [22, 21, 24, 4, 1], \"catIndividual Oversight\": [\"GUN_RIGHTS:0.666666666667\", \"GUNS:0.666666666667\", \"CONTROL_OF_GUNS:0.666666666667\", \"GUN_VIOLENCE:0.666666666667\", \"GUN_INDUSTRY:0.666666666667\"], \"stackedGovernment Oversight\": [22.0, 21.0, 24.0, 4.0, 1.0], \"midIndividual Oversight\": [35, 25, 27, 3, 1], \"stackedIndividual Oversight\": [80.0, 68.0, 75.0, 12.0, 3.0], \"cat\": [\"GUN_RIGHTS\", \"GUNS\", \"CONTROL_OF_GUNS\", \"GUN_VIOLENCE\", \"GUN_INDUSTRY\"], \"width\": [0.8, 0.8, 0.8, 0.8, 0.8], \"zero\": [115.0, 93.0, 102.0, 16.0, 5.0], \"Government Oversight\": [45, 43, 48, 9, 2], \"Individual Oversight\": [70, 50, 54, 7, 3], \"catGovernment Oversight\": [\"GUN_RIGHTS:0.333333333333\", \"GUNS:0.333333333333\", \"CONTROL_OF_GUNS:0.333333333333\", \"GUN_VIOLENCE:0.333333333333\", \"GUN_INDUSTRY:0.333333333333\"]}, \"id\": \"99da06c0-49fc-4d9c-98ef-e0e3583327b2\"}, \"type\": \"ColumnDataSource\", \"id\": \"99da06c0-49fc-4d9c-98ef-e0e3583327b2\"}, {\"attributes\": {\"plot\": {\"type\": \"Plot\", \"id\": \"201fd321-870b-4f64-b7a1-918468b08741\"}, \"tags\": [], \"doc\": null, \"id\": \"193f4795-526f-4d27-9e46-1c9b7e8423d2\"}, \"type\": \"PreviewSaveTool\", \"id\": \"193f4795-526f-4d27-9e46-1c9b7e8423d2\"}, {\"attributes\": {\"line_color\": {\"value\": \"white\"}, \"line_width\": null, \"fill_color\": {\"value\": \"#f22c40\"}, \"tags\": [], \"doc\": null, \"id\": \"bcda70df-46af-4d0f-b4d6-0b0c48331ddd\", \"fill_alpha\": {\"units\": \"data\", \"value\": 0.7}, \"height\": {\"units\": \"data\", \"field\": \"Government Oversight\"}, \"line_alpha\": {\"units\": \"data\", \"value\": 1.0}, \"y\": {\"units\": \"data\", \"field\": \"midGovernment Oversight\"}, \"x\": {\"units\": \"data\", \"field\": \"catGovernment Oversight\"}, \"width\": {\"units\": \"data\", \"field\": \"width_cat\"}}, \"type\": \"Rect\", \"id\": \"bcda70df-46af-4d0f-b4d6-0b0c48331ddd\"}, {\"attributes\": {\"nonselection_glyph\": null, \"data_source\": {\"type\": \"ColumnDataSource\", \"id\": \"99da06c0-49fc-4d9c-98ef-e0e3583327b2\"}, \"server_data_source\": null, \"tags\": [], \"doc\": null, \"selection_glyph\": null, \"id\": \"e2fe512a-dfd1-4d66-8944-8fb470944cf3\", \"glyph\": {\"type\": \"Rect\", \"id\": \"498d1aed-947e-4efc-94ae-d270d26054d7\"}}, \"type\": \"GlyphRenderer\", \"id\": \"e2fe512a-dfd1-4d66-8944-8fb470944cf3\"}, {\"attributes\": {\"plot\": {\"type\": \"Plot\", \"id\": \"201fd321-870b-4f64-b7a1-918468b08741\"}, \"orientation\": \"top_right\", \"tags\": [], \"doc\": null, \"id\": \"f23f9cef-e0ff-4441-b58d-935f025e2de2\", \"legends\": [[\"Government Oversight\", [{\"type\": \"GlyphRenderer\", \"id\": \"ca71e767-b76f-4524-908f-89382749ca47\"}]], [\"Individual Oversight\", [{\"type\": \"GlyphRenderer\", \"id\": \"e2fe512a-dfd1-4d66-8944-8fb470944cf3\"}]]]}, \"type\": \"Legend\", \"id\": \"f23f9cef-e0ff-4441-b58d-935f025e2de2\"}, {\"attributes\": {\"geometries\": [], \"tags\": [], \"doc\": null, \"id\": \"4ee3c02c-0fb3-40f7-91ac-b1f4f7bdb035\"}, \"type\": \"ToolEvents\", \"id\": \"4ee3c02c-0fb3-40f7-91ac-b1f4f7bdb035\"}, {\"attributes\": {\"doc\": null, \"id\": \"52d25030-8fb6-4115-84d2-de34530f2c36\", \"tags\": []}, \"type\": \"BasicTicker\", \"id\": \"52d25030-8fb6-4115-84d2-de34530f2c36\"}, {\"attributes\": {\"start\": 0, \"end\": 77.0, \"tags\": [], \"doc\": null, \"id\": \"de53ccbd-c2cd-4152-818d-f09f8f15429e\"}, \"type\": \"Range1d\", \"id\": \"de53ccbd-c2cd-4152-818d-f09f8f15429e\"}, {\"attributes\": {\"doc\": null, \"id\": \"dad5fb1d-2d5b-4e42-9724-9d6b7d0f29cc\", \"tags\": []}, \"type\": \"CategoricalTicker\", \"id\": \"dad5fb1d-2d5b-4e42-9724-9d6b7d0f29cc\"}];\n",
       "            Bokeh.load_models(all_models);\n",
       "            var model = Bokeh.Collections(modeltype).get(modelid);\n",
       "            var view = new model.default_view({model: model, el: '#e306ab8d-d017-4377-b933-6b1c5d02f43e'});\n",
       "            Bokeh.index[modelid] = view\n",
       "        });\n",
       "    </script>\n",
       "<div class=\"plotdiv\" id=\"e306ab8d-d017-4377-b933-6b1c5d02f43e\"></div>\n",
       "\n"
      ]
     },
     "metadata": {},
     "output_type": "display_data"
    }
   ],
   "source": [
    "import ui\n",
    "ui.bk.output_notebook(force=True)\n",
    "form = ui.show_ui()"
   ]
  }
 ],
 "metadata": {
  "celltoolbar": "Slideshow",
  "kernelspec": {
   "display_name": "IPython (Python 2)",
   "name": "python2"
  },
  "language_info": {
   "codemirror_mode": {
    "name": "ipython",
    "version": 2
   },
   "file_extension": ".py",
   "mimetype": "text/x-python",
   "name": "python",
   "nbconvert_exporter": "python",
   "pygments_lexer": "ipython2",
   "version": "2.7.3"
  }
 },
 "nbformat": 4,
 "nbformat_minor": 0
}